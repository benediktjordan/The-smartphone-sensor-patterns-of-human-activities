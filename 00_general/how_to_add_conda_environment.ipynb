{
 "cells": [
  {
   "cell_type": "markdown",
   "source": [
    "How to create a new Conda environment using the terminal & copying all packages from existing environment\n",
    "\n",
    "Step 1: Saving list of packages from existing environment"
   ],
   "metadata": {
    "collapsed": false
   }
  },
  {
   "cell_type": "code",
   "execution_count": null,
   "outputs": [],
   "source": [
    "# go into the directory where you want to save the list of packages (.yml file)\n",
    "cd /Users/benediktjordan/Desktop/MasterThesis_Iteration01\n",
    "\n",
    "# export the .yml file\n",
    "conda env export > requirements.yml\n"
   ],
   "metadata": {
    "collapsed": false
   }
  },
  {
   "cell_type": "markdown",
   "source": [
    "Step 2: create new environment"
   ],
   "metadata": {
    "collapsed": false
   }
  },
  {
   "cell_type": "code",
   "execution_count": null,
   "outputs": [],
   "source": [
    "conda env create -f requirements.yml -n <environment name> python=3.9\n",
    "\n",
    "# In case there are failures during creation: just delete the package name of the failing package from the .yml file\n",
    "\n",
    "# activate the new environment\n",
    " conda activate <environment name>\n",
    "\n",
    "# add the new environment to the selection\n",
    "click on \"Add new INterpreter\" and then choose your new Conda environment"
   ],
   "metadata": {
    "collapsed": false,
    "pycharm": {
     "is_executing": true
    }
   }
  },
  {
   "cell_type": "markdown",
   "source": [
    "\n"
   ],
   "metadata": {
    "collapsed": false
   }
  }
 ],
 "metadata": {
  "kernelspec": {
   "display_name": "Python 3",
   "language": "python",
   "name": "python3"
  },
  "language_info": {
   "codemirror_mode": {
    "name": "ipython",
    "version": 2
   },
   "file_extension": ".py",
   "mimetype": "text/x-python",
   "name": "python",
   "nbconvert_exporter": "python",
   "pygments_lexer": "ipython2",
   "version": "2.7.6"
  }
 },
 "nbformat": 4,
 "nbformat_minor": 0
}
